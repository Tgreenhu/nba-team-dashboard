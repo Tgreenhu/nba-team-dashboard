{
 "cells": [
  {
   "cell_type": "code",
   "execution_count": 1,
   "metadata": {},
   "outputs": [],
   "source": [
    "# Import Dependencies\n",
    "import pymongo\n",
    "import requests\n",
    "import pandas as pd\n",
    "from bs4 import BeautifulSoup as soup\n",
    "from splinter import Browser\n",
    "from urllib.parse import urljoin\n",
    "from pymongo import MongoClient\n",
    "from sqlalchemy import create_engine"
   ]
  },
  {
   "cell_type": "code",
   "execution_count": 49,
   "metadata": {},
   "outputs": [],
   "source": [
    "# Set path to browser & start splinter\n",
    "browser = Browser('chrome')\n",
    "url = 'https://twitchtracker.com/games'\n",
    "browser.visit(url)"
   ]
  },
  {
   "cell_type": "code",
   "execution_count": 57,
   "metadata": {},
   "outputs": [],
   "source": [
    "html = browser.html\n",
    "soup_obj = soup(html, 'html.parser')"
   ]
  },
  {
   "cell_type": "code",
   "execution_count": 60,
   "metadata": {},
   "outputs": [
    {
     "data": {
      "text/plain": [
       "[]"
      ]
     },
     "execution_count": 60,
     "metadata": {},
     "output_type": "execute_result"
    }
   ],
   "source": [
    "# top_games = {}\n",
    "response = requests.get(url)\n",
    "soup1 =  soup(response.text, 'html.parser') \n",
    "# top_games['title'] = soup1.find_all('body', class_=\"ranked-list\")\n",
    "table = soup1.find('div', attrs = {'class': 'container ranked-list'})\n",
    "\n",
    "# for row in table[0].findAll('div', attrs = {'class':'ranked-item'}):\n",
    "#     top_games = {}\n",
    "#     top_games['title'] = row.a.text\n",
    "table"
   ]
  },
  {
   "cell_type": "code",
   "execution_count": 56,
   "metadata": {},
   "outputs": [
    {
     "data": {
      "text/plain": [
       "{'title': []}"
      ]
     },
     "execution_count": 56,
     "metadata": {},
     "output_type": "execute_result"
    }
   ],
   "source": [
    "top_games"
   ]
  },
  {
   "cell_type": "code",
   "execution_count": null,
   "metadata": {},
   "outputs": [],
   "source": []
  },
  {
   "cell_type": "code",
   "execution_count": 53,
   "metadata": {},
   "outputs": [],
   "source": [
    "def top_20_games(url):\n",
    "    top_games = {}\n",
    "    response = requests.get(url)\n",
    "    soup1 =  soup(response.text, 'lxml') \n",
    "    top_games['title'] = soup1.find_all('a', class_=\"ri-name\")\n",
    "#     top_games['born'] = soup1.find('span', class_=\"author-born-date\").text.strip()\n",
    "#     top_games['location'] = soup1.find('span', class_=\"author-born-location\").text.strip()\n",
    "#     top_games['description'] = soup1.find('div', class_=\"author-description\").text.strip()\n",
    "    return top_games"
   ]
  },
  {
   "cell_type": "code",
   "execution_count": 54,
   "metadata": {},
   "outputs": [
    {
     "data": {
      "text/plain": [
       "{'title': []}"
      ]
     },
     "execution_count": 54,
     "metadata": {},
     "output_type": "execute_result"
    }
   ],
   "source": [
    "top_20_games(url)\n"
   ]
  },
  {
   "cell_type": "code",
   "execution_count": null,
   "metadata": {},
   "outputs": [],
   "source": []
  }
 ],
 "metadata": {
  "kernelspec": {
   "display_name": "Python 3",
   "language": "python",
   "name": "python3"
  },
  "language_info": {
   "codemirror_mode": {
    "name": "ipython",
    "version": 3
   },
   "file_extension": ".py",
   "mimetype": "text/x-python",
   "name": "python",
   "nbconvert_exporter": "python",
   "pygments_lexer": "ipython3",
   "version": "3.8.3"
  }
 },
 "nbformat": 4,
 "nbformat_minor": 4
}
